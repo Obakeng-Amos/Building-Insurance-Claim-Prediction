{
 "cells": [
  {
   "cell_type": "markdown",
   "metadata": {},
   "source": [
    "### Insurance Claim Prediction\n"
   ]
  },
  {
   "cell_type": "code",
   "execution_count": 22,
   "metadata": {},
   "outputs": [],
   "source": [
    "# Import necessary libraries\n",
    "import pandas as pd\n",
    "import numpy as np\n",
    "from sklearn.model_selection import train_test_split\n",
    "from sklearn.preprocessing import StandardScaler, OneHotEncoder\n",
    "from sklearn.compose import ColumnTransformer\n",
    "from sklearn.pipeline import Pipeline\n",
    "from sklearn.linear_model import LogisticRegression\n",
    "from sklearn.metrics import roc_curve, roc_auc_score\n",
    "from sklearn.impute import SimpleImputer\n",
    "import matplotlib.pyplot as plt"
   ]
  },
  {
   "cell_type": "code",
   "execution_count": 35,
   "metadata": {},
   "outputs": [
    {
     "data": {
      "text/html": [
       "<div>\n",
       "<style scoped>\n",
       "    .dataframe tbody tr th:only-of-type {\n",
       "        vertical-align: middle;\n",
       "    }\n",
       "\n",
       "    .dataframe tbody tr th {\n",
       "        vertical-align: top;\n",
       "    }\n",
       "\n",
       "    .dataframe thead th {\n",
       "        text-align: right;\n",
       "    }\n",
       "</style>\n",
       "<table border=\"1\" class=\"dataframe\">\n",
       "  <thead>\n",
       "    <tr style=\"text-align: right;\">\n",
       "      <th></th>\n",
       "      <th>Customer Id</th>\n",
       "      <th>YearOfObservation</th>\n",
       "      <th>Insured_Period</th>\n",
       "      <th>Residential</th>\n",
       "      <th>Building_Painted</th>\n",
       "      <th>Building_Fenced</th>\n",
       "      <th>Garden</th>\n",
       "      <th>Settlement</th>\n",
       "      <th>Building Dimension</th>\n",
       "      <th>Building_Type</th>\n",
       "      <th>Date_of_Occupancy</th>\n",
       "      <th>NumberOfWindows</th>\n",
       "      <th>Geo_Code</th>\n",
       "      <th>Claim</th>\n",
       "    </tr>\n",
       "  </thead>\n",
       "  <tbody>\n",
       "    <tr>\n",
       "      <th>0</th>\n",
       "      <td>H14663</td>\n",
       "      <td>2013</td>\n",
       "      <td>1.0</td>\n",
       "      <td>0</td>\n",
       "      <td>N</td>\n",
       "      <td>V</td>\n",
       "      <td>V</td>\n",
       "      <td>U</td>\n",
       "      <td>290.0</td>\n",
       "      <td>1</td>\n",
       "      <td>1960.0</td>\n",
       "      <td>.</td>\n",
       "      <td>1053</td>\n",
       "      <td>0</td>\n",
       "    </tr>\n",
       "    <tr>\n",
       "      <th>1</th>\n",
       "      <td>H2037</td>\n",
       "      <td>2015</td>\n",
       "      <td>1.0</td>\n",
       "      <td>0</td>\n",
       "      <td>V</td>\n",
       "      <td>N</td>\n",
       "      <td>O</td>\n",
       "      <td>R</td>\n",
       "      <td>490.0</td>\n",
       "      <td>1</td>\n",
       "      <td>1850.0</td>\n",
       "      <td>4</td>\n",
       "      <td>1053</td>\n",
       "      <td>0</td>\n",
       "    </tr>\n",
       "    <tr>\n",
       "      <th>2</th>\n",
       "      <td>H3802</td>\n",
       "      <td>2014</td>\n",
       "      <td>1.0</td>\n",
       "      <td>0</td>\n",
       "      <td>N</td>\n",
       "      <td>V</td>\n",
       "      <td>V</td>\n",
       "      <td>U</td>\n",
       "      <td>595.0</td>\n",
       "      <td>1</td>\n",
       "      <td>1960.0</td>\n",
       "      <td>.</td>\n",
       "      <td>1053</td>\n",
       "      <td>0</td>\n",
       "    </tr>\n",
       "    <tr>\n",
       "      <th>3</th>\n",
       "      <td>H3834</td>\n",
       "      <td>2013</td>\n",
       "      <td>1.0</td>\n",
       "      <td>0</td>\n",
       "      <td>V</td>\n",
       "      <td>V</td>\n",
       "      <td>V</td>\n",
       "      <td>U</td>\n",
       "      <td>2840.0</td>\n",
       "      <td>1</td>\n",
       "      <td>1960.0</td>\n",
       "      <td>.</td>\n",
       "      <td>1053</td>\n",
       "      <td>0</td>\n",
       "    </tr>\n",
       "    <tr>\n",
       "      <th>4</th>\n",
       "      <td>H5053</td>\n",
       "      <td>2014</td>\n",
       "      <td>1.0</td>\n",
       "      <td>0</td>\n",
       "      <td>V</td>\n",
       "      <td>N</td>\n",
       "      <td>O</td>\n",
       "      <td>R</td>\n",
       "      <td>680.0</td>\n",
       "      <td>1</td>\n",
       "      <td>1800.0</td>\n",
       "      <td>3</td>\n",
       "      <td>1053</td>\n",
       "      <td>0</td>\n",
       "    </tr>\n",
       "    <tr>\n",
       "      <th>5</th>\n",
       "      <td>H4977</td>\n",
       "      <td>2012</td>\n",
       "      <td>1.0</td>\n",
       "      <td>0</td>\n",
       "      <td>V</td>\n",
       "      <td>N</td>\n",
       "      <td>O</td>\n",
       "      <td>R</td>\n",
       "      <td>535.0</td>\n",
       "      <td>1</td>\n",
       "      <td>1980.0</td>\n",
       "      <td>3</td>\n",
       "      <td>1143</td>\n",
       "      <td>0</td>\n",
       "    </tr>\n",
       "    <tr>\n",
       "      <th>6</th>\n",
       "      <td>H7390</td>\n",
       "      <td>2012</td>\n",
       "      <td>1.0</td>\n",
       "      <td>0</td>\n",
       "      <td>N</td>\n",
       "      <td>V</td>\n",
       "      <td>V</td>\n",
       "      <td>U</td>\n",
       "      <td>2830.0</td>\n",
       "      <td>1</td>\n",
       "      <td>1988.0</td>\n",
       "      <td>.</td>\n",
       "      <td>1143</td>\n",
       "      <td>0</td>\n",
       "    </tr>\n",
       "    <tr>\n",
       "      <th>7</th>\n",
       "      <td>H14488</td>\n",
       "      <td>2015</td>\n",
       "      <td>1.0</td>\n",
       "      <td>0</td>\n",
       "      <td>N</td>\n",
       "      <td>V</td>\n",
       "      <td>V</td>\n",
       "      <td>U</td>\n",
       "      <td>4952.0</td>\n",
       "      <td>1</td>\n",
       "      <td>1988.0</td>\n",
       "      <td>.</td>\n",
       "      <td>1160</td>\n",
       "      <td>0</td>\n",
       "    </tr>\n",
       "    <tr>\n",
       "      <th>8</th>\n",
       "      <td>H19355</td>\n",
       "      <td>2014</td>\n",
       "      <td>1.0</td>\n",
       "      <td>0</td>\n",
       "      <td>V</td>\n",
       "      <td>N</td>\n",
       "      <td>O</td>\n",
       "      <td>R</td>\n",
       "      <td>2735.0</td>\n",
       "      <td>1</td>\n",
       "      <td>2013.0</td>\n",
       "      <td>3</td>\n",
       "      <td>1173</td>\n",
       "      <td>1</td>\n",
       "    </tr>\n",
       "    <tr>\n",
       "      <th>9</th>\n",
       "      <td>H18601</td>\n",
       "      <td>2015</td>\n",
       "      <td>1.0</td>\n",
       "      <td>0</td>\n",
       "      <td>V</td>\n",
       "      <td>N</td>\n",
       "      <td>O</td>\n",
       "      <td>R</td>\n",
       "      <td>520.0</td>\n",
       "      <td>1</td>\n",
       "      <td>2011.0</td>\n",
       "      <td>2</td>\n",
       "      <td>1224</td>\n",
       "      <td>0</td>\n",
       "    </tr>\n",
       "  </tbody>\n",
       "</table>\n",
       "</div>"
      ],
      "text/plain": [
       "  Customer Id  YearOfObservation  Insured_Period  Residential  \\\n",
       "0      H14663               2013             1.0            0   \n",
       "1       H2037               2015             1.0            0   \n",
       "2       H3802               2014             1.0            0   \n",
       "3       H3834               2013             1.0            0   \n",
       "4       H5053               2014             1.0            0   \n",
       "5       H4977               2012             1.0            0   \n",
       "6       H7390               2012             1.0            0   \n",
       "7      H14488               2015             1.0            0   \n",
       "8      H19355               2014             1.0            0   \n",
       "9      H18601               2015             1.0            0   \n",
       "\n",
       "  Building_Painted Building_Fenced Garden Settlement  Building Dimension  \\\n",
       "0                N               V      V          U               290.0   \n",
       "1                V               N      O          R               490.0   \n",
       "2                N               V      V          U               595.0   \n",
       "3                V               V      V          U              2840.0   \n",
       "4                V               N      O          R               680.0   \n",
       "5                V               N      O          R               535.0   \n",
       "6                N               V      V          U              2830.0   \n",
       "7                N               V      V          U              4952.0   \n",
       "8                V               N      O          R              2735.0   \n",
       "9                V               N      O          R               520.0   \n",
       "\n",
       "   Building_Type  Date_of_Occupancy NumberOfWindows Geo_Code  Claim  \n",
       "0              1             1960.0               .     1053      0  \n",
       "1              1             1850.0               4     1053      0  \n",
       "2              1             1960.0               .     1053      0  \n",
       "3              1             1960.0               .     1053      0  \n",
       "4              1             1800.0               3     1053      0  \n",
       "5              1             1980.0               3     1143      0  \n",
       "6              1             1988.0               .     1143      0  \n",
       "7              1             1988.0               .     1160      0  \n",
       "8              1             2013.0               3     1173      1  \n",
       "9              1             2011.0               2     1224      0  "
      ]
     },
     "execution_count": 35,
     "metadata": {},
     "output_type": "execute_result"
    }
   ],
   "source": [
    "# Load Dataset\n",
    "\n",
    "data = pd.read_csv('data.csv')\n",
    "\n",
    "# Display the first few rows of the dataset\n",
    "\n",
    "data.head(10)"
   ]
  },
  {
   "cell_type": "code",
   "execution_count": 16,
   "metadata": {},
   "outputs": [
    {
     "name": "stdout",
     "output_type": "stream",
     "text": [
      "<class 'pandas.core.frame.DataFrame'>\n",
      "RangeIndex: 7160 entries, 0 to 7159\n",
      "Data columns (total 14 columns):\n",
      " #   Column              Non-Null Count  Dtype  \n",
      "---  ------              --------------  -----  \n",
      " 0   Customer Id         7160 non-null   object \n",
      " 1   YearOfObservation   7160 non-null   int64  \n",
      " 2   Insured_Period      7160 non-null   float64\n",
      " 3   Residential         7160 non-null   int64  \n",
      " 4   Building_Painted    7160 non-null   object \n",
      " 5   Building_Fenced     7160 non-null   object \n",
      " 6   Garden              7153 non-null   object \n",
      " 7   Settlement          7160 non-null   object \n",
      " 8   Building Dimension  7054 non-null   float64\n",
      " 9   Building_Type       7160 non-null   int64  \n",
      " 10  Date_of_Occupancy   6652 non-null   float64\n",
      " 11  NumberOfWindows     7160 non-null   object \n",
      " 12  Geo_Code            7058 non-null   object \n",
      " 13  Claim               7160 non-null   int64  \n",
      "dtypes: float64(3), int64(4), object(7)\n",
      "memory usage: 783.3+ KB\n"
     ]
    }
   ],
   "source": [
    "# Check for missing values and data types\n",
    "\n",
    "data.info()"
   ]
  },
  {
   "cell_type": "code",
   "execution_count": 17,
   "metadata": {},
   "outputs": [],
   "source": [
    "# Assume 'Claim' is the target variable and others are features\n",
    "# Separate features and target variable\n",
    "\n",
    "X = data.drop(columns=['Claim'])\n",
    "y = data['Claim']"
   ]
  },
  {
   "cell_type": "code",
   "execution_count": 23,
   "metadata": {},
   "outputs": [],
   "source": [
    "# Identify numeric and categorical columns\n",
    "\n",
    "numeric_features = X.select_dtypes(include=[np.number]).columns.tolist()\n",
    "categorical_features = X.select_dtypes(exclude=[np.number]).columns.tolist()"
   ]
  },
  {
   "cell_type": "code",
   "execution_count": 24,
   "metadata": {},
   "outputs": [],
   "source": [
    "# Preprocessing for numeric data\n",
    "numeric_transformer = Pipeline(steps=[\n",
    "    ('imputer', SimpleImputer(strategy='mean')),\n",
    "    ('scaler', StandardScaler())])\n",
    "\n",
    "# Preprocessing for categorical data\n",
    "categorical_transformer = Pipeline(steps=[\n",
    "    ('imputer', SimpleImputer(strategy='most_frequent')),\n",
    "    ('onehot', OneHotEncoder(handle_unknown='ignore'))])\n",
    "\n",
    "# Combine preprocessing steps\n",
    "preprocessor = ColumnTransformer(\n",
    "    transformers=[\n",
    "        ('num', numeric_transformer, numeric_features),\n",
    "        ('cat', categorical_transformer, categorical_features)])\n",
    "\n",
    "\n",
    "\n",
    "# 1. SimpleImputer for Missing Values:\n",
    "\n",
    "# Numeric Features: Missing values are imputed with the mean of the column.\n",
    "\n",
    "# Categorical Features: Missing values are imputed with the most frequent value (mode) of the column.\n",
    "\n",
    "# 2. Pipeline Adjustments:\n",
    "\n",
    "# The numeric and categorical transformers now include an imputation step before scaling or encoding.\n",
    "\n",
    "# 3. Increased Max Iterations for Logistic Regression:\n",
    "\n",
    "# Set max_iter=1000 to ensure convergence in case the default of 100 iterations is insufficient."
   ]
  },
  {
   "cell_type": "code",
   "execution_count": 25,
   "metadata": {},
   "outputs": [],
   "source": [
    "# Create the pipeline with preprocessing and model\n",
    "\n",
    "model = Pipeline(steps=[('preprocessor', preprocessor),\n",
    "                        ('classifier', LogisticRegression(max_iter=1000))])"
   ]
  },
  {
   "cell_type": "code",
   "execution_count": 26,
   "metadata": {},
   "outputs": [],
   "source": [
    "# Split the data into training and testing sets\n",
    "\n",
    "X_train, X_test, y_train, y_test = train_test_split(X, y, test_size=0.2, random_state=42)"
   ]
  },
  {
   "cell_type": "code",
   "execution_count": 27,
   "metadata": {},
   "outputs": [],
   "source": [
    "# Train the model on the training data\n",
    "\n",
    "model.fit(X_train, y_train)\n",
    "\n",
    "# Predict probabilities for the training and test data\n",
    "\n",
    "y_train_pred_prob = model.predict_proba(X_train)[:, 1]\n",
    "y_test_pred_prob = model.predict_proba(X_test)[:, 1]"
   ]
  },
  {
   "cell_type": "code",
   "execution_count": 28,
   "metadata": {},
   "outputs": [
    {
     "name": "stdout",
     "output_type": "stream",
     "text": [
      "Training ROC AUC: 0.9601664234591063\n",
      "Test ROC AUC: 0.690973244767296\n"
     ]
    }
   ],
   "source": [
    "# Calculate ROC AUC for training and testing sets\n",
    "\n",
    "train_roc_auc = roc_auc_score(y_train, y_train_pred_prob)\n",
    "test_roc_auc = roc_auc_score(y_test, y_test_pred_prob)\n",
    "\n",
    "print(f'Training ROC AUC: {train_roc_auc}')\n",
    "print(f'Test ROC AUC: {test_roc_auc}')"
   ]
  },
  {
   "cell_type": "code",
   "execution_count": 36,
   "metadata": {},
   "outputs": [
    {
     "data": {
      "text/plain": [
       "<Figure size 1200x600 with 0 Axes>"
      ]
     },
     "execution_count": 36,
     "metadata": {},
     "output_type": "execute_result"
    },
    {
     "data": {
      "text/plain": [
       "<Figure size 1200x600 with 0 Axes>"
      ]
     },
     "metadata": {},
     "output_type": "display_data"
    }
   ],
   "source": [
    "# Plot ROC curves for both training and test datasets\n",
    "\n",
    "plt.figure(figsize=(12, 6))"
   ]
  },
  {
   "cell_type": "code",
   "execution_count": 30,
   "metadata": {},
   "outputs": [
    {
     "data": {
      "text/plain": [
       "[<matplotlib.lines.Line2D at 0x218c688d340>]"
      ]
     },
     "execution_count": 30,
     "metadata": {},
     "output_type": "execute_result"
    },
    {
     "data": {
      "image/png": "[encoded data removed]",
      "text/plain": [
       "<Figure size 640x480 with 1 Axes>"
      ]
     },
     "metadata": {},
     "output_type": "display_data"
    }
   ],
   "source": [
    "# Training ROC Curve\n",
    "fpr_train, tpr_train, _ = roc_curve(y_train, y_train_pred_prob)\n",
    "plt.plot(fpr_train, tpr_train, label=f'Training ROC Curve (AUC = {train_roc_auc:.2f})')"
   ]
  },
  {
   "cell_type": "code",
   "execution_count": 31,
   "metadata": {},
   "outputs": [
    {
     "data": {
      "text/plain": [
       "[<matplotlib.lines.Line2D at 0x218c8c10110>]"
      ]
     },
     "execution_count": 31,
     "metadata": {},
     "output_type": "execute_result"
    },
    {
     "data": {
      "image/png": "[encoded data removed]",
      "text/plain": [
       "<Figure size 640x480 with 1 Axes>"
      ]
     },
     "metadata": {},
     "output_type": "display_data"
    }
   ],
   "source": [
    "# Test ROC Curve\n",
    "fpr_test, tpr_test, _ = roc_curve(y_test, y_test_pred_prob)\n",
    "plt.plot(fpr_test, tpr_test, label=f'Test ROC Curve (AUC = {test_roc_auc:.2f})')"
   ]
  },
  {
   "cell_type": "code",
   "execution_count": 32,
   "metadata": {},
   "outputs": [
    {
     "data": {
      "image/png": "[encoded data removed]",
      "text/plain": [
       "<Figure size 640x480 with 1 Axes>"
      ]
     },
     "metadata": {},
     "output_type": "display_data"
    }
   ],
   "source": [
    "# Plotting the ROC curve\n",
    "plt.plot([0, 1], [0, 1], 'k--', label='Random Classifier')\n",
    "plt.xlabel('False Positive Rate')\n",
    "plt.ylabel('True Positive Rate')\n",
    "plt.title('ROC Curve')\n",
    "plt.legend(loc='best')\n",
    "plt.savefig('roc_curve.png')\n",
    "plt.show()"
   ]
  },
  {
   "cell_type": "code",
   "execution_count": 37,
   "metadata": {},
   "outputs": [],
   "source": [
    "# Make predictions on the test set\n",
    "predictions = model.predict(X_test)"
   ]
  },
  {
   "cell_type": "code",
   "execution_count": 38,
   "metadata": {},
   "outputs": [
    {
     "name": "stdout",
     "output_type": "stream",
     "text": [
      "Predictions saved to predictions.csv\n"
     ]
    }
   ],
   "source": [
    "# Save the predictions to a CSV file\n",
    "output = pd.DataFrame({'Actual': y_test, 'Predicted': predictions})\n",
    "output.to_csv('predictions.csv', index=False)\n",
    "print('Predictions saved to predictions.csv')"
   ]
  },
  {
   "cell_type": "code",
   "execution_count": null,
   "metadata": {},
   "outputs": [],
   "source": []
  },
  {
   "cell_type": "code",
   "execution_count": null,
   "metadata": {},
   "outputs": [],
   "source": []
  },
  {
   "cell_type": "code",
   "execution_count": null,
   "metadata": {},
   "outputs": [],
   "source": []
  }
 ],
 "metadata": {
  "kernelspec": {
   "display_name": "base",
   "language": "python",
   "name": "python3"
  },
  "language_info": {
   "codemirror_mode": {
    "name": "ipython",
    "version": 3
   },
   "file_extension": ".py",
   "mimetype": "text/x-python",
   "name": "python",
   "nbconvert_exporter": "python",
   "pygments_lexer": "ipython3",
   "version": "3.12.2"
  }
 },
 "nbformat": 4,
 "nbformat_minor": 2
}
